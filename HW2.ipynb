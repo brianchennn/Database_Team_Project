{
 "cells": [
  {
   "cell_type": "code",
   "execution_count": 3,
   "metadata": {},
   "outputs": [
    {
     "name": "stdout",
     "output_type": "stream",
     "text": [
      "[3.1 2.  4.  9. ]\n",
      "[  0.         -11.16129032 -18.32258065 -29.22580645]\n",
      "[ 0.00000000e+00 -2.89016810e-10 -5.20231219e-02 -2.31213880e-02]\n"
     ]
    }
   ],
   "source": [
    "import numpy as np\n",
    "r1 = np.array([3.1,2,4,9])\n",
    "r2 = np.array([8,-6,-8,-6])\n",
    "r3 = np.array([-1,2,3,4])\n",
    "r2 = r2 + (-8/3.1)*r1\n",
    "r3 = r3 + (1/3.1)*r1\n",
    "r3 = r3 + (2.64516129/11.16129032)*r2\n",
    "print(r1)\n",
    "print(r2)\n",
    "print(r3)\n"
   ]
  },
  {
   "cell_type": "code",
   "execution_count": 51,
   "metadata": {},
   "outputs": [
    {
     "name": "stdout",
     "output_type": "stream",
     "text": [
      "0.44444445384197523\n"
     ]
    }
   ],
   "source": [
    "x3 = -2.31213880e-02/-5.20231219e-02\n",
    "print(x3)"
   ]
  },
  {
   "cell_type": "code",
   "execution_count": 52,
   "metadata": {},
   "outputs": [
    {
     "name": "stdout",
     "output_type": "stream",
     "text": [
      "1.8888888735612788\n"
     ]
    }
   ],
   "source": [
    "x2 = (-29.22580645 + 18.32258065 * 0.44444445384197523 )/-11.16129032\n",
    "print(x2)"
   ]
  },
  {
   "cell_type": "code",
   "execution_count": 53,
   "metadata": {},
   "outputs": [
    {
     "name": "stdout",
     "output_type": "stream",
     "text": [
      "1.1111111088740457\n"
     ]
    }
   ],
   "source": [
    "x1 = (9 - 4*x3 -2*x2)/3.1\n",
    "print(x1)"
   ]
  },
  {
   "cell_type": "code",
   "execution_count": 7,
   "metadata": {},
   "outputs": [
    {
     "name": "stdout",
     "output_type": "stream",
     "text": [
      "[ 8 -3  2 -3] \n",
      " [0.    9.625 2.25  4.625] \n",
      " [ 1 -2  4  1] \n",
      "\n",
      "[ 8 -3  2 -3] \n",
      " [0.    9.625 2.25  4.625] \n",
      " [ 0.    -1.625  3.75   1.375] \n",
      "\n",
      "[ 8 -3  2 -3] \n",
      " [0.    9.625 2.25  4.625] \n",
      " [0.    0.    4.13  2.156] \n",
      "\n",
      "[ 8 -3  2 -3] \n",
      " [0.    9.625 2.25  4.625] \n",
      " [0.    0.    4.13  2.156] \n",
      "\n"
     ]
    }
   ],
   "source": [
    "r3 = np.array([1,-2,4,1])\n",
    "r1 = np.array([8,-3,2,-3])\n",
    "r2 = np.array([-1,10,2,5])\n",
    "r2 = r2 + (-r2[0]/r1[0])*r1\n",
    "r2 = np.around(r2,decimals=3)\n",
    "print(r1,'\\n',r2,'\\n',r3,'\\n')\n",
    "r3 = r3 + (-r3[0]/r1[0])*r1\n",
    "r3 = np.around(r3,decimals=3)\n",
    "print(r1,'\\n',r2,'\\n',r3,'\\n')\n",
    "#r3,r2 = r2,r3\n",
    "r3 = r3 + (-r3[1]/r2[1])*r2\n",
    "r3=np.around(r3,decimals=3)\n",
    "print(r1,'\\n',r2,'\\n',r3,'\\n')\n",
    "\n",
    "print(r1,'\\n',r2,'\\n',r3,'\\n')"
   ]
  },
  {
   "cell_type": "code",
   "execution_count": 55,
   "metadata": {},
   "outputs": [
    {
     "name": "stdout",
     "output_type": "stream",
     "text": [
      "1.5660207669037691\n",
      "0.07543253900869801 \n",
      " -0.11321798959768048\n"
     ]
    }
   ],
   "source": [
    "x3 = r3[3]/r3[2]\n",
    "print(x3)\n",
    "x2 = (r2[3] - r2[2]*x3)/r2[1]\n",
    "x1 = (r1[3] - r1[2]*x3 - r1[1]*x2)/r1[0]\n",
    "print(x2,'\\n',x1)"
   ]
  },
  {
   "cell_type": "code",
   "execution_count": 56,
   "metadata": {},
   "outputs": [
    {
     "data": {
      "text/plain": [
       "2.0570000000000004"
      ]
     },
     "execution_count": 56,
     "metadata": {},
     "output_type": "execute_result"
    }
   ],
   "source": [
    "8*(-0.113) -3 * 0.057 + 2*1.566"
   ]
  },
  {
   "cell_type": "code",
   "execution_count": 57,
   "metadata": {},
   "outputs": [
    {
     "data": {
      "text/plain": [
       "0.7264150931060871"
      ]
     },
     "execution_count": 57,
     "metadata": {},
     "output_type": "execute_result"
    }
   ],
   "source": [
    "4.25 -2.25*1.5660377363972946"
   ]
  },
  {
   "cell_type": "code",
   "execution_count": 43,
   "metadata": {},
   "outputs": [
    {
     "data": {
      "text/plain": [
       "-1.1320754727945892"
      ]
     },
     "execution_count": 43,
     "metadata": {},
     "output_type": "execute_result"
    }
   ],
   "source": [
    "2 - 2*1.5660377363972946"
   ]
  },
  {
   "cell_type": "code",
   "execution_count": 44,
   "metadata": {},
   "outputs": [
    {
     "data": {
      "text/plain": [
       "0.075471697985048"
      ]
     },
     "execution_count": 44,
     "metadata": {},
     "output_type": "execute_result"
    }
   ],
   "source": [
    "0.7264150931060871/9.625"
   ]
  },
  {
   "cell_type": "code",
   "execution_count": 45,
   "metadata": {},
   "outputs": [
    {
     "data": {
      "text/plain": [
       "-0.9056603788394452"
      ]
     },
     "execution_count": 45,
     "metadata": {},
     "output_type": "execute_result"
    }
   ],
   "source": [
    "0.075471697985048*3 + (-1.1320754727945892)"
   ]
  },
  {
   "cell_type": "code",
   "execution_count": 46,
   "metadata": {},
   "outputs": [
    {
     "data": {
      "text/plain": [
       "-1.1320415338075378"
      ]
     },
     "execution_count": 46,
     "metadata": {},
     "output_type": "execute_result"
    }
   ],
   "source": [
    "8 * x1 -3 *x2"
   ]
  },
  {
   "cell_type": "code",
   "execution_count": 47,
   "metadata": {},
   "outputs": [
    {
     "data": {
      "text/plain": [
       "0.7260381879587183"
      ]
     },
     "execution_count": 47,
     "metadata": {},
     "output_type": "execute_result"
    }
   ],
   "source": [
    "9.625*x2"
   ]
  },
  {
   "cell_type": "code",
   "execution_count": 68,
   "metadata": {},
   "outputs": [],
   "source": [
    "rr1 = np.array([8,-3,2,2])\n",
    "rr1 = rr1 * 1/rr1[0]\n",
    "rr2 = np.array([0,9.625,2.25,4.25])\n",
    "rr2 = rr2 * (1/rr2[1])\n",
    "rr3 = np.array([0,0,4.12987013,6.46753247])\n",
    "rr3 = rr3*(1/rr3[2])"
   ]
  },
  {
   "cell_type": "code",
   "execution_count": 70,
   "metadata": {},
   "outputs": [
    {
     "name": "stdout",
     "output_type": "stream",
     "text": [
      "[ 1.          0.          0.         -0.11320755] \n",
      " [0.        1.        0.        0.0754717] \n",
      " [0.         0.         1.         1.56603774]\n"
     ]
    }
   ],
   "source": [
    "rr2 = rr2 - (rr2[2]*rr3)\n",
    "rr1 = rr1 - (rr1[2]*rr3)\n",
    "rr1 = rr1 - rr1[1]*rr2\n",
    "print(rr1,'\\n',rr2,'\\n',rr3)"
   ]
  },
  {
   "cell_type": "code",
   "execution_count": 89,
   "metadata": {},
   "outputs": [
    {
     "name": "stdout",
     "output_type": "stream",
     "text": [
      "[ 1.    -0.533  0.23   0.731]\n",
      "[ 1.     0.725 -0.236 -0.655]\n",
      "[0.197 0.356 0.084 1.   ]\n",
      "[[ 1.    -0.533  0.23   0.731]\n",
      " [ 0.     1.258 -0.466 -1.386]\n",
      " [ 0.     0.461  0.039  0.856]]\n",
      "[[ 1.    -0.533  0.23   0.731]\n",
      " [ 0.     1.258 -0.466 -1.386]\n",
      " [ 0.     0.     0.21   1.364]]\n",
      "[[ 1.    -0.533  0.23   0.731]\n",
      " [ 0.     1.    -0.37  -1.102]\n",
      " [ 0.     0.     1.     6.495]]\n",
      "[[ 1.     0.     0.    -0.07 ]\n",
      " [ 0.     1.     0.     1.301]\n",
      " [ 0.     0.     1.     6.495]]\n"
     ]
    }
   ],
   "source": [
    "#27\n",
    "mat = np.array([[4.13,-2.20,0.95,3.02],[6.14,4.45,-1.45,-4.02],[1.03,1.86,0.44,5.22]])\n",
    "for i in range(3):\n",
    "    mat[i] = np.around(mat[i]/max(mat[i]),decimals=3)\n",
    "    print(mat[i])\n",
    "for i in range(2,0,-1):\n",
    "    if(mat[i][0]>mat[i-1][0]):\n",
    "        mat[i],mat[i-1] = mat[i-1],mat[i]\n",
    "mat[1]=np.around(mat[1]-mat[1][0]/mat[0][0]*mat[0],decimals=3)\n",
    "mat[2]=np.around(mat[2]-mat[2][0]/mat[0][0]*mat[0],decimals=3)\n",
    "if(mat[1][1]<mat[2][1]):\n",
    "    mat[1][1],mat[2][1] = mat[2][1],mat[1][1]\n",
    "print(mat)\n",
    "mat[2]=np.around(mat[2]-mat[2][1]/mat[1][1]*mat[1],decimals=3)\n",
    "print(mat)\n",
    "for i in range(3):\n",
    "    mat[i] = np.around(mat[i]/mat[i][i],decimals=3)\n",
    "print(mat)\n",
    "mat[1] = np.around(mat[1] - (mat[1][2]*mat[2]),decimals=3)\n",
    "mat[0] = np.around(mat[0] - (mat[0][2]*mat[2]),decimals=3)\n",
    "mat[0] = np.around(mat[0] - (mat[0][1]*mat[1]),decimals=3)\n",
    "print(mat)\n",
    "rr1 = rr1 - (rr1[2]*rr3)\n",
    "rr1 = rr1 - rr1[1]*rr2"
   ]
  },
  {
   "cell_type": "code",
   "execution_count": 8,
   "metadata": {},
   "outputs": [
    {
     "name": "stdout",
     "output_type": "stream",
     "text": [
      "[[-0.37074935]\n",
      " [ 0.35871199]\n",
      " [ 0.52106538]]\n"
     ]
    }
   ],
   "source": [
    "U = np.array([[8,-3,2],[0,9.625,2.25],[0,0,4.13]])\n",
    "print(np.linalg.inv(U).dot(np.array([[-3],[4.625],[2.152]])))"
   ]
  },
  {
   "cell_type": "code",
   "execution_count": 15,
   "metadata": {},
   "outputs": [
    {
     "name": "stdout",
     "output_type": "stream",
     "text": [
      "[[ 1.          0.          0.        ]\n",
      " [-0.125       1.          0.        ]\n",
      " [ 0.125      -0.16883117  1.        ]] \n",
      " [[ 8.         -3.          2.        ]\n",
      " [ 0.          9.625       2.25      ]\n",
      " [ 0.          0.          4.12987013]]\n"
     ]
    }
   ],
   "source": [
    "import scipy\n",
    "import scipy.linalg \n",
    "P,L,U = scipy.linalg.lu(np.array([[1,-2,4],[8,-3,2],[-1,10,2]]))\n",
    "print(L,'\\n',U)"
   ]
  },
  {
   "cell_type": "code",
   "execution_count": 18,
   "metadata": {},
   "outputs": [
    {
     "data": {
      "text/plain": [
       "array([[-3.        ],\n",
       "       [ 6.625     ],\n",
       "       [-0.50649351]])"
      ]
     },
     "execution_count": 18,
     "metadata": {},
     "output_type": "execute_result"
    }
   ],
   "source": [
    "np.linalg.inv(L).dot(np.array([[-3],[7],[-2]]))"
   ]
  },
  {
   "cell_type": "code",
   "execution_count": 20,
   "metadata": {},
   "outputs": [
    {
     "name": "stdout",
     "output_type": "stream",
     "text": [
      "[[ 0.06124929]\n",
      " [ 0.84048027]\n",
      " [-0.48427673]]\n"
     ]
    }
   ],
   "source": [
    "x = np.linalg.inv(U).dot(np.array([[-3],[7],[-2]]))\n",
    "print(x)"
   ]
  },
  {
   "cell_type": "code",
   "execution_count": 24,
   "metadata": {},
   "outputs": [
    {
     "name": "stdout",
     "output_type": "stream",
     "text": [
      "19.699999999999925\n"
     ]
    }
   ],
   "source": [
    "mat2 = np.array([[4,-2,3,-5],[3,3,5,-8],[-6,-1,4,3],[-4,2,-3,5.1]])\n",
    "print(np.linalg.det(mat2))"
   ]
  },
  {
   "cell_type": "code",
   "execution_count": 81,
   "metadata": {},
   "outputs": [
    {
     "name": "stdout",
     "output_type": "stream",
     "text": [
      "[[ 3 -1  2  1  0  0]\n",
      " [ 1  1  3  0  1  0]\n",
      " [-3  0  5  0  0  1]]\n",
      "[ 0.         1.3333333  2.3333333 -0.3333333  1.         0.       ]\n",
      "[[ 3 -1  2  1  0  0]\n",
      " [ 0  1  2  0  1  0]\n",
      " [-3  0  5  0  0  1]]\n",
      "[[ 3 -1  2  1  0  0]\n",
      " [ 0  1  2  0  1  0]\n",
      " [ 0 -1  7  1  0  1]]\n",
      "[[ 3 -1  2  1  0  0]\n",
      " [ 0  1  2  0  1  0]\n",
      " [ 0  0  9  1  1  1]]\n",
      "[[1 0 0 0 0 0]\n",
      " [0 1 0 0 1 0]\n",
      " [0 0 1 0 0 0]]\n"
     ]
    }
   ],
   "source": [
    "#第56題\n",
    "aug = np.array([[3,-1,2,1,0,0],[1,1,3,0,1,0],[-3,0,5,0,0,1]])\n",
    "print(aug)\n",
    "#print(\"標準答案\\n\",np.around(np.linalg.inv(np.array([[3,-1,2],[1,1,3],[-3,0,5]])),decimals=7))\n",
    "print(np.around(aug[1] + (-aug[1][0]/aug[0][0])*aug[0],decimals = 7))\n",
    "aug[1] = aug[1] + np.around((-aug[1][0]/aug[0][0])*aug[0],decimals = 7)\n",
    "print(aug)\n",
    "aug[2] = aug[2] + np.around((-aug[2][0]/aug[0][0])*aug[0],decimals=7)\n",
    "print(aug)\n",
    "aug[2] = aug[2] + np.around((-aug[2][1]/aug[1][1])*aug[1],decimals=7)\n",
    "print(aug)\n",
    "for i in range(0,3):\n",
    "    aug[i] = np.around(aug[i]/aug[i][i],decimals=7)\n",
    "#aug[2] = aug[2] + (-aug[2]/aug[0])*aug[0]\n",
    "aug[1] = np.around(aug[1] + (-aug[1][2])*aug[2],decimals=7)\n",
    "aug[0] = np.around(aug[0] + (-aug[0][2])*aug[2],decimals=7)\n",
    "aug[0] = np.around(aug[0] + (-aug[0][1])*aug[1],decimals=7)\n",
    "print(aug)"
   ]
  },
  {
   "cell_type": "code",
   "execution_count": 10,
   "metadata": {},
   "outputs": [
    {
     "name": "stdout",
     "output_type": "stream",
     "text": [
      "[[-0.14332248]\n",
      " [-1.37459283]\n",
      " [ 0.71986971]]\n",
      "it  x1   x2  x3\n",
      "1 0 0 0\n",
      "2 0.8571428571428571 -1.0 0.3333333333333333\n",
      "3 0.2380952380952381 -1.542857142857143 1.0952380952380951\n",
      "4 -0.42993197278911566 -1.7523809523809526 0.9666666666666668\n",
      "5 -0.44625850340136075 -1.4080272108843537 0.7024943310657598\n",
      "6 -0.14772270813087138 -1.2429931972789114 0.5795464852607709\n",
      "7 -0.00673793326854539 -1.288638807904114 0.6738030450275349\n",
      "8 -0.08016122911749735 -1.4015866537091028 0.759510636000432\n",
      "9 -0.1775432150184338 -1.4236418899532601 0.7604482700109522\n",
      "10 -0.18753124998622697 -1.3852516759991977 0.7191090224752031\n",
      "11 -0.14745587398548649 -1.3564529134906311 0.7013182670066191\n",
      "12 -0.12494740121405279 -1.3618086106097769 0.7117563675041337\n",
      "13 -0.13320732883512365 -1.3770748600168592 0.7247958362628992\n",
      "14 -0.14720113215745353 -1.38159457022369 0.7257546222547245\n",
      "15 -0.14968602852713828 -1.3765723204898535 0.7202642906625032\n",
      "16 -0.14439630344565327 -1.3722841629866465 0.7173477592330487\n",
      "17 -0.14089193227030483 -1.3726501341615678 0.7185632359393889\n",
      "18 -0.1417433351774656 -1.3747811686555114 0.7204374119187035\n",
      "19 -0.14372759337733543 -1.3755651130802358 0.7207220552964376\n",
      "20 -0.1442262229180654 -1.3749421958269283 0.7199912410047441\n",
      "21 -0.14354165021425155 -1.3743042554356202 0.7195342871499434\n",
      "22 -0.14300713070094778 -1.3743039122042653 0.7196639267047477\n",
      "23 -0.14308106334739806 -1.3745955037424695 0.7199310720509479\n",
      "24 -0.14335868563302862 -1.3747262178916095 0.7199913029071241\n",
      "25 -0.14344912361476073 -1.3746513074910631 0.7198960631473555\n",
      "26 -0.14336259643751598 -1.374557988442509 0.719825874022974\n",
      "27 -0.14328249448848895 -1.3745504858387778 0.7198380312620783\n",
      "28 -0.14328622608066377 -1.3745898209618512 0.7198755813686816\n"
     ]
    }
   ],
   "source": [
    "##78題 jacobi\n",
    "m3 = np.array([[7,-3,4,6],[2,5,3,-5],[-3,2,6,2]])\n",
    "A = np.array([[7,-3,4],[2,5,3],[-3,2,6]])\n",
    "b = np.array([[6],[-5],[2]])\n",
    "x = np.linalg.inv(A).dot(b)\n",
    "print(x)\n",
    "x1 = 0\n",
    "x2 = 0\n",
    "x3 = 0\n",
    "it = 0\n",
    "print(\"it  x1   x2  x3\")\n",
    "while(abs(x1-x[0][0])>0.00001):\n",
    "    it += 1 \n",
    "    print(it,x1,x2,x3)\n",
    "    t_x1 = (6 +3*x2 -4*x3)/7 \n",
    "    t_x2 = (-5 -2*x1 -3*x3)/5\n",
    "    t_x3 = (2+3*x1-2*x2)/6\n",
    "    x1 = t_x1\n",
    "    x2 = t_x2\n",
    "    x3 = t_x3"
   ]
  },
  {
   "cell_type": "code",
   "execution_count": 11,
   "metadata": {},
   "outputs": [
    {
     "name": "stdout",
     "output_type": "stream",
     "text": [
      "[[-0.14332248]\n",
      " [-1.37459283]\n",
      " [ 0.71986971]]\n",
      "it  x1   x2  x3\n",
      "1 0 0 0\n",
      "2 0.8571428571428571 -1.342857142857143 1.2095238095238094\n",
      "3 -0.40952380952380946 -1.561904761904762 0.6492063492063492\n",
      "4 -0.1832199546485261 -1.316235827664399 0.6804686318972033\n",
      "5 -0.09579743008314434 -1.3699622071050643 0.7420886873267826\n",
      "6 -0.1540344815174747 -1.3836394197890798 0.7175292325042891\n",
      "7 -0.14586216991205658 -1.372172671537751 0.7177931388898887\n",
      "8 -0.14109865288182968 -1.3742364221812013 0.7208628142861523\n",
      "9 -0.14373721766974468 -1.3750228015037935 0.7198056583330589\n",
      "10 -0.14347014826337373 -1.3744953356944858 0.7197633710998085\n",
      "11 -0.14321992735467015 -1.374570051718017 0.7199133868953372\n",
      "12 -0.1433376718193429 -1.374612963409465 0.7198688185601503\n"
     ]
    }
   ],
   "source": [
    "##79題 Gauss-Seidel\n",
    "\n",
    "print(x)\n",
    "x1 = 0\n",
    "x2 = 0\n",
    "x3 = 0\n",
    "it = 0\n",
    "print(\"it  x1   x2  x3\")\n",
    "while(abs(x1-x[0][0])>0.00001):\n",
    "    it += 1 \n",
    "    print(it,x1,x2,x3)\n",
    "    x1 = (6 +3*x2 -4*x3)/7 \n",
    "    x2 = (-5 -2*x1 -3*x3)/5\n",
    "    x3 = (2+3*x1-2*x2)/6\n",
    "    "
   ]
  },
  {
   "cell_type": "code",
   "execution_count": 75,
   "metadata": {},
   "outputs": [
    {
     "name": "stdout",
     "output_type": "stream",
     "text": [
      "[[ 6.03   1.99   3.01 ]\n",
      " [ 4.16  -1.23   1.27 ]\n",
      " [-4.81   9.34   0.987]]\n",
      "5.380000000000002 10.1 5.2669999999999995 \n",
      "\n",
      "norm of A is 10.1\n",
      "\n",
      "\n",
      "[[  428.05405423  -856.03117808  -203.93425235]\n",
      " [  334.38918915  -668.79376438  -159.21314953]\n",
      " [-1078.27256924  2157.06564616   513.80654792]]\n",
      "-315.82932586039715 632.2407036995417 150.6591460398958 \n",
      "\n",
      "norm of A^-1 is 632.2407036995417\n",
      "\n",
      "\n",
      "1.8684999999999998\n",
      "[[ 6.03    1.99    3.01    1.    ]\n",
      " [ 0.     -2.6029 -0.8066  0.3101]\n",
      " [ 0.     10.9274  3.388   1.7977]]\n",
      "[[ 6.0300e+00  1.9900e+00  3.0100e+00  1.0000e+00]\n",
      " [ 0.0000e+00 -2.6029e+00 -8.0660e-01  3.1010e-01]\n",
      " [ 0.0000e+00  0.0000e+00  1.8000e-03  3.0996e+00]]\n",
      "[[ 1.000e+00  3.300e-01  4.992e-01  1.658e-01]\n",
      " [-0.000e+00  1.000e+00  3.099e-01 -1.191e-01]\n",
      " [ 0.000e+00  0.000e+00  1.000e+00  1.722e+03]]\n",
      "[[ 1.000000e+00  0.000000e+00  0.000000e+00 -6.833135e+02]\n",
      " [-0.000000e+00  1.000000e+00  0.000000e+00 -5.337669e+02]\n",
      " [ 0.000000e+00  0.000000e+00  1.000000e+00  1.722000e+03]]\n"
     ]
    }
   ],
   "source": [
    "#66,68\n",
    "mat = np.array([[6.03,1.99,3.01,1],[4.16,-1.23,1.27,1],[-4.81,9.34,0.987,1]])\n",
    "A = np.array([[6.03,1.99,3.01],[4.16,-1.23,1.27],[-4.81,9.34,0.987]])\n",
    "print(A)\n",
    "maxx = 0\n",
    "for i in range(3):\n",
    "    tmp = 0\n",
    "    for j in range(3):\n",
    "        tmp+=A[j][i]\n",
    "    if(abs(tmp)>maxx):\n",
    "        maxx = tmp\n",
    "    print(tmp,end=' ')\n",
    "print('\\n')\n",
    "print(\"norm of A is\",maxx)\n",
    "print('\\n')\n",
    "A_int = np.linalg.inv(A)\n",
    "print(A_int)\n",
    "maxx = 0\n",
    "for i in range(3):\n",
    "    tmp = 0\n",
    "    for j in range(3):\n",
    "        tmp+=A_int[j][i]\n",
    "    if(abs(tmp)>maxx):\n",
    "        maxx = tmp\n",
    "    print(tmp,end=' ')\n",
    "print('\\n')\n",
    "print(\"norm of A^-1 is\",maxx)\n",
    "print('\\n')\n",
    "print(10.1*0.185)\n",
    "d = 4\n",
    "mat[1]=np.around(mat[1]-mat[1][0]/mat[0][0]*mat[0],decimals=d)\n",
    "mat[2]=np.around(mat[2]-mat[2][0]/mat[0][0]*mat[0],decimals=d)\n",
    "\n",
    "print(mat)\n",
    "mat[2]=np.around(mat[2]-mat[2][1]/mat[1][1]*mat[1],decimals=d)\n",
    "print(mat)\n",
    "for i in range(3):\n",
    "    mat[i] = np.around(mat[i]/mat[i][i],decimals=d)\n",
    "print(mat)\n",
    "mat[1] = np.around(mat[1] - (mat[1][2]*mat[2]),decimals=d)\n",
    "mat[0] = np.around(mat[0] - (mat[0][2]*mat[2]),decimals=d)\n",
    "mat[0] = np.around(mat[0] - (mat[0][1]*mat[1]),decimals=d)\n",
    "print(mat)"
   ]
  },
  {
   "cell_type": "code",
   "execution_count": 64,
   "metadata": {},
   "outputs": [
    {
     "name": "stdout",
     "output_type": "stream",
     "text": [
      "-0.00012740046000000007\n"
     ]
    }
   ],
   "source": [
    "print(0.00159259954 - 0.00172)"
   ]
  },
  {
   "cell_type": "code",
   "execution_count": 80,
   "metadata": {},
   "outputs": [
    {
     "name": "stdout",
     "output_type": "stream",
     "text": [
      "[[ 6.03   1.99   3.01 ]\n",
      " [ 4.16  -1.23   1.27 ]\n",
      " [-4.81   9.34   0.987]]\n",
      "[[-0.512799 ]\n",
      " [-0.21641  ]\n",
      " [-0.1676211]]\n",
      "-1.512799\n",
      "r [[1.81898940e-12]\n",
      " [1.36424205e-12]\n",
      " [2.27373675e-13]]\n",
      "e [[-4.35577223e-10]\n",
      " [-3.40347065e-10]\n",
      " [ 1.09821937e-09]]\n",
      "[[-631.9113762 ]\n",
      " [-493.61772476]\n",
      " [1592.59962484]]\n",
      "[[1.]\n",
      " [1.]\n",
      " [1.]]\n"
     ]
    }
   ],
   "source": [
    "#73\n",
    "print(A)\n",
    "b=np.array([[1],[1],[1]])\n",
    "x=np.array([[-0.0683],[-0.0533],[0.0017]])\n",
    "print (A.dot(x))\n",
    "\n",
    "while(abs(A.dot(x)[0][0]-1)>0.00001):\n",
    "    print(A.dot(x)[0][0]-1)\n",
    "    x = np.linalg.inv(A).dot(b)\n",
    "    r = b- A.dot(x)\n",
    "    print(\"r\",r)\n",
    "    e = np.linalg.inv(A).dot(r)\n",
    "    print(\"e\",e)\n",
    "    x = x + e\n",
    "    print(x)\n",
    "print(A.dot(x))"
   ]
  },
  {
   "cell_type": "code",
   "execution_count": null,
   "metadata": {},
   "outputs": [],
   "source": []
  }
 ],
 "metadata": {
  "kernelspec": {
   "display_name": "Python 3",
   "language": "python",
   "name": "python3"
  },
  "language_info": {
   "codemirror_mode": {
    "name": "ipython",
    "version": 3
   },
   "file_extension": ".py",
   "mimetype": "text/x-python",
   "name": "python",
   "nbconvert_exporter": "python",
   "pygments_lexer": "ipython3",
   "version": "3.8.1"
  }
 },
 "nbformat": 4,
 "nbformat_minor": 4
}
